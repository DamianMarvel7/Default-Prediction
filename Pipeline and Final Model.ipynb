{
 "cells": [
  {
   "cell_type": "code",
   "execution_count": 1,
   "id": "3ecc1c29",
   "metadata": {},
   "outputs": [],
   "source": [
    "import pandas as pd \n",
    "import numpy as np"
   ]
  },
  {
   "cell_type": "code",
   "execution_count": 2,
   "id": "a4fe5f8e",
   "metadata": {},
   "outputs": [],
   "source": [
    "df = pd.read_csv('train_cleaned.csv')"
   ]
  },
  {
   "cell_type": "code",
   "execution_count": 3,
   "id": "c5434604",
   "metadata": {},
   "outputs": [],
   "source": [
    "df.drop(['avg_pay_amt','avg_bill_amt'],axis=1,inplace=True)"
   ]
  },
  {
   "cell_type": "code",
   "execution_count": 4,
   "id": "6a2b942a",
   "metadata": {},
   "outputs": [
    {
     "data": {
      "text/html": [
       "<div>\n",
       "<style scoped>\n",
       "    .dataframe tbody tr th:only-of-type {\n",
       "        vertical-align: middle;\n",
       "    }\n",
       "\n",
       "    .dataframe tbody tr th {\n",
       "        vertical-align: top;\n",
       "    }\n",
       "\n",
       "    .dataframe thead th {\n",
       "        text-align: right;\n",
       "    }\n",
       "</style>\n",
       "<table border=\"1\" class=\"dataframe\">\n",
       "  <thead>\n",
       "    <tr style=\"text-align: right;\">\n",
       "      <th></th>\n",
       "      <th>limit_bal</th>\n",
       "      <th>sex</th>\n",
       "      <th>education</th>\n",
       "      <th>marriage</th>\n",
       "      <th>age</th>\n",
       "      <th>pay_1</th>\n",
       "      <th>pay_2</th>\n",
       "      <th>pay_3</th>\n",
       "      <th>pay_4</th>\n",
       "      <th>pay_5</th>\n",
       "      <th>...</th>\n",
       "      <th>pay_amt1</th>\n",
       "      <th>pay_amt2</th>\n",
       "      <th>pay_amt3</th>\n",
       "      <th>pay_amt4</th>\n",
       "      <th>pay_amt5</th>\n",
       "      <th>pay_amt6</th>\n",
       "      <th>default</th>\n",
       "      <th>avg_default</th>\n",
       "      <th>bill_bal_ratio</th>\n",
       "      <th>pay_bal_ratio</th>\n",
       "    </tr>\n",
       "  </thead>\n",
       "  <tbody>\n",
       "    <tr>\n",
       "      <th>0</th>\n",
       "      <td>360000</td>\n",
       "      <td>0</td>\n",
       "      <td>2</td>\n",
       "      <td>2</td>\n",
       "      <td>25</td>\n",
       "      <td>0</td>\n",
       "      <td>0</td>\n",
       "      <td>0</td>\n",
       "      <td>0</td>\n",
       "      <td>0</td>\n",
       "      <td>...</td>\n",
       "      <td>12590</td>\n",
       "      <td>3479</td>\n",
       "      <td>3446</td>\n",
       "      <td>8870</td>\n",
       "      <td>2020</td>\n",
       "      <td>27043</td>\n",
       "      <td>0</td>\n",
       "      <td>0.000000</td>\n",
       "      <td>0.023771</td>\n",
       "      <td>0.026596</td>\n",
       "    </tr>\n",
       "    <tr>\n",
       "      <th>1</th>\n",
       "      <td>240000</td>\n",
       "      <td>0</td>\n",
       "      <td>1</td>\n",
       "      <td>2</td>\n",
       "      <td>46</td>\n",
       "      <td>2</td>\n",
       "      <td>2</td>\n",
       "      <td>0</td>\n",
       "      <td>0</td>\n",
       "      <td>0</td>\n",
       "      <td>...</td>\n",
       "      <td>0</td>\n",
       "      <td>0</td>\n",
       "      <td>2240</td>\n",
       "      <td>0</td>\n",
       "      <td>2267</td>\n",
       "      <td>3074</td>\n",
       "      <td>0</td>\n",
       "      <td>0.666667</td>\n",
       "      <td>0.004614</td>\n",
       "      <td>0.005265</td>\n",
       "    </tr>\n",
       "    <tr>\n",
       "      <th>2</th>\n",
       "      <td>320000</td>\n",
       "      <td>0</td>\n",
       "      <td>2</td>\n",
       "      <td>1</td>\n",
       "      <td>41</td>\n",
       "      <td>0</td>\n",
       "      <td>0</td>\n",
       "      <td>0</td>\n",
       "      <td>0</td>\n",
       "      <td>0</td>\n",
       "      <td>...</td>\n",
       "      <td>5000</td>\n",
       "      <td>2000</td>\n",
       "      <td>2000</td>\n",
       "      <td>3000</td>\n",
       "      <td>3000</td>\n",
       "      <td>1500</td>\n",
       "      <td>0</td>\n",
       "      <td>0.000000</td>\n",
       "      <td>0.129561</td>\n",
       "      <td>0.008594</td>\n",
       "    </tr>\n",
       "    <tr>\n",
       "      <th>3</th>\n",
       "      <td>50000</td>\n",
       "      <td>0</td>\n",
       "      <td>2</td>\n",
       "      <td>2</td>\n",
       "      <td>24</td>\n",
       "      <td>0</td>\n",
       "      <td>0</td>\n",
       "      <td>0</td>\n",
       "      <td>0</td>\n",
       "      <td>0</td>\n",
       "      <td>...</td>\n",
       "      <td>0</td>\n",
       "      <td>0</td>\n",
       "      <td>0</td>\n",
       "      <td>0</td>\n",
       "      <td>0</td>\n",
       "      <td>0</td>\n",
       "      <td>1</td>\n",
       "      <td>0.000000</td>\n",
       "      <td>0.008917</td>\n",
       "      <td>0.000000</td>\n",
       "    </tr>\n",
       "    <tr>\n",
       "      <th>4</th>\n",
       "      <td>80000</td>\n",
       "      <td>1</td>\n",
       "      <td>3</td>\n",
       "      <td>1</td>\n",
       "      <td>52</td>\n",
       "      <td>0</td>\n",
       "      <td>0</td>\n",
       "      <td>0</td>\n",
       "      <td>0</td>\n",
       "      <td>0</td>\n",
       "      <td>...</td>\n",
       "      <td>1500</td>\n",
       "      <td>1500</td>\n",
       "      <td>1500</td>\n",
       "      <td>1028</td>\n",
       "      <td>876</td>\n",
       "      <td>1449</td>\n",
       "      <td>0</td>\n",
       "      <td>0.000000</td>\n",
       "      <td>0.285513</td>\n",
       "      <td>0.016360</td>\n",
       "    </tr>\n",
       "    <tr>\n",
       "      <th>...</th>\n",
       "      <td>...</td>\n",
       "      <td>...</td>\n",
       "      <td>...</td>\n",
       "      <td>...</td>\n",
       "      <td>...</td>\n",
       "      <td>...</td>\n",
       "      <td>...</td>\n",
       "      <td>...</td>\n",
       "      <td>...</td>\n",
       "      <td>...</td>\n",
       "      <td>...</td>\n",
       "      <td>...</td>\n",
       "      <td>...</td>\n",
       "      <td>...</td>\n",
       "      <td>...</td>\n",
       "      <td>...</td>\n",
       "      <td>...</td>\n",
       "      <td>...</td>\n",
       "      <td>...</td>\n",
       "      <td>...</td>\n",
       "      <td>...</td>\n",
       "    </tr>\n",
       "    <tr>\n",
       "      <th>20995</th>\n",
       "      <td>50000</td>\n",
       "      <td>0</td>\n",
       "      <td>2</td>\n",
       "      <td>2</td>\n",
       "      <td>31</td>\n",
       "      <td>1</td>\n",
       "      <td>0</td>\n",
       "      <td>0</td>\n",
       "      <td>0</td>\n",
       "      <td>0</td>\n",
       "      <td>...</td>\n",
       "      <td>0</td>\n",
       "      <td>0</td>\n",
       "      <td>0</td>\n",
       "      <td>0</td>\n",
       "      <td>0</td>\n",
       "      <td>0</td>\n",
       "      <td>0</td>\n",
       "      <td>0.166667</td>\n",
       "      <td>0.000000</td>\n",
       "      <td>0.000000</td>\n",
       "    </tr>\n",
       "    <tr>\n",
       "      <th>20996</th>\n",
       "      <td>80000</td>\n",
       "      <td>0</td>\n",
       "      <td>2</td>\n",
       "      <td>1</td>\n",
       "      <td>37</td>\n",
       "      <td>0</td>\n",
       "      <td>0</td>\n",
       "      <td>0</td>\n",
       "      <td>0</td>\n",
       "      <td>0</td>\n",
       "      <td>...</td>\n",
       "      <td>5000</td>\n",
       "      <td>3000</td>\n",
       "      <td>2000</td>\n",
       "      <td>4000</td>\n",
       "      <td>2000</td>\n",
       "      <td>2000</td>\n",
       "      <td>0</td>\n",
       "      <td>0.000000</td>\n",
       "      <td>0.689981</td>\n",
       "      <td>0.037500</td>\n",
       "    </tr>\n",
       "    <tr>\n",
       "      <th>20997</th>\n",
       "      <td>100000</td>\n",
       "      <td>1</td>\n",
       "      <td>1</td>\n",
       "      <td>1</td>\n",
       "      <td>52</td>\n",
       "      <td>1</td>\n",
       "      <td>2</td>\n",
       "      <td>2</td>\n",
       "      <td>2</td>\n",
       "      <td>0</td>\n",
       "      <td>...</td>\n",
       "      <td>0</td>\n",
       "      <td>3600</td>\n",
       "      <td>0</td>\n",
       "      <td>6000</td>\n",
       "      <td>3000</td>\n",
       "      <td>0</td>\n",
       "      <td>1</td>\n",
       "      <td>1.166667</td>\n",
       "      <td>0.250240</td>\n",
       "      <td>0.021000</td>\n",
       "    </tr>\n",
       "    <tr>\n",
       "      <th>20998</th>\n",
       "      <td>90000</td>\n",
       "      <td>0</td>\n",
       "      <td>2</td>\n",
       "      <td>1</td>\n",
       "      <td>47</td>\n",
       "      <td>0</td>\n",
       "      <td>0</td>\n",
       "      <td>0</td>\n",
       "      <td>0</td>\n",
       "      <td>0</td>\n",
       "      <td>...</td>\n",
       "      <td>2000</td>\n",
       "      <td>2000</td>\n",
       "      <td>2000</td>\n",
       "      <td>2000</td>\n",
       "      <td>2000</td>\n",
       "      <td>2000</td>\n",
       "      <td>0</td>\n",
       "      <td>0.000000</td>\n",
       "      <td>0.321144</td>\n",
       "      <td>0.022222</td>\n",
       "    </tr>\n",
       "    <tr>\n",
       "      <th>20999</th>\n",
       "      <td>90000</td>\n",
       "      <td>1</td>\n",
       "      <td>3</td>\n",
       "      <td>1</td>\n",
       "      <td>44</td>\n",
       "      <td>1</td>\n",
       "      <td>0</td>\n",
       "      <td>0</td>\n",
       "      <td>0</td>\n",
       "      <td>0</td>\n",
       "      <td>...</td>\n",
       "      <td>0</td>\n",
       "      <td>0</td>\n",
       "      <td>0</td>\n",
       "      <td>0</td>\n",
       "      <td>0</td>\n",
       "      <td>0</td>\n",
       "      <td>1</td>\n",
       "      <td>0.166667</td>\n",
       "      <td>0.000000</td>\n",
       "      <td>0.000000</td>\n",
       "    </tr>\n",
       "  </tbody>\n",
       "</table>\n",
       "<p>21000 rows × 27 columns</p>\n",
       "</div>"
      ],
      "text/plain": [
       "       limit_bal  sex  education  marriage  age  pay_1  pay_2  pay_3  pay_4  \\\n",
       "0         360000    0          2         2   25      0      0      0      0   \n",
       "1         240000    0          1         2   46      2      2      0      0   \n",
       "2         320000    0          2         1   41      0      0      0      0   \n",
       "3          50000    0          2         2   24      0      0      0      0   \n",
       "4          80000    1          3         1   52      0      0      0      0   \n",
       "...          ...  ...        ...       ...  ...    ...    ...    ...    ...   \n",
       "20995      50000    0          2         2   31      1      0      0      0   \n",
       "20996      80000    0          2         1   37      0      0      0      0   \n",
       "20997     100000    1          1         1   52      1      2      2      2   \n",
       "20998      90000    0          2         1   47      0      0      0      0   \n",
       "20999      90000    1          3         1   44      1      0      0      0   \n",
       "\n",
       "       pay_5  ...  pay_amt1  pay_amt2  pay_amt3  pay_amt4  pay_amt5  pay_amt6  \\\n",
       "0          0  ...     12590      3479      3446      8870      2020     27043   \n",
       "1          0  ...         0         0      2240         0      2267      3074   \n",
       "2          0  ...      5000      2000      2000      3000      3000      1500   \n",
       "3          0  ...         0         0         0         0         0         0   \n",
       "4          0  ...      1500      1500      1500      1028       876      1449   \n",
       "...      ...  ...       ...       ...       ...       ...       ...       ...   \n",
       "20995      0  ...         0         0         0         0         0         0   \n",
       "20996      0  ...      5000      3000      2000      4000      2000      2000   \n",
       "20997      0  ...         0      3600         0      6000      3000         0   \n",
       "20998      0  ...      2000      2000      2000      2000      2000      2000   \n",
       "20999      0  ...         0         0         0         0         0         0   \n",
       "\n",
       "       default  avg_default  bill_bal_ratio  pay_bal_ratio  \n",
       "0            0     0.000000        0.023771       0.026596  \n",
       "1            0     0.666667        0.004614       0.005265  \n",
       "2            0     0.000000        0.129561       0.008594  \n",
       "3            1     0.000000        0.008917       0.000000  \n",
       "4            0     0.000000        0.285513       0.016360  \n",
       "...        ...          ...             ...            ...  \n",
       "20995        0     0.166667        0.000000       0.000000  \n",
       "20996        0     0.000000        0.689981       0.037500  \n",
       "20997        1     1.166667        0.250240       0.021000  \n",
       "20998        0     0.000000        0.321144       0.022222  \n",
       "20999        1     0.166667        0.000000       0.000000  \n",
       "\n",
       "[21000 rows x 27 columns]"
      ]
     },
     "execution_count": 4,
     "metadata": {},
     "output_type": "execute_result"
    }
   ],
   "source": [
    "df"
   ]
  },
  {
   "cell_type": "code",
   "execution_count": 5,
   "id": "5814ff00",
   "metadata": {},
   "outputs": [],
   "source": [
    "from sklearn.preprocessing import StandardScaler,OneHotEncoder,FunctionTransformer\n",
    "from sklearn.decomposition import PCA"
   ]
  },
  {
   "cell_type": "code",
   "execution_count": 6,
   "id": "794847f3",
   "metadata": {},
   "outputs": [],
   "source": [
    "numerical = ['limit_bal',\n",
    " 'age',\n",
    " 'pay_amt1',\n",
    " 'pay_amt2',\n",
    " 'pay_amt3',\n",
    " 'pay_amt4',\n",
    " 'pay_amt5',\n",
    " 'pay_amt6',\n",
    " 'bill_bal_ratio',\n",
    " 'pay_bal_ratio']"
   ]
  },
  {
   "cell_type": "code",
   "execution_count": 7,
   "id": "03e30309",
   "metadata": {},
   "outputs": [],
   "source": [
    "bill_amt_cols=[ 'bill_amt1',\n",
    " 'bill_amt2',\n",
    " 'bill_amt3',\n",
    " 'bill_amt4',\n",
    " 'bill_amt5',\n",
    " 'bill_amt6']"
   ]
  },
  {
   "cell_type": "code",
   "execution_count": 8,
   "id": "acc442a7",
   "metadata": {},
   "outputs": [],
   "source": [
    "ohe_columns=['marriage','education']"
   ]
  },
  {
   "cell_type": "code",
   "execution_count": 9,
   "id": "2d14685a",
   "metadata": {},
   "outputs": [],
   "source": [
    "categorical=['sex',\n",
    " 'pay_1',\n",
    " 'pay_2',\n",
    " 'pay_3',\n",
    " 'pay_4',\n",
    " 'pay_5',\n",
    " 'pay_6',\n",
    " 'avg_default']"
   ]
  },
  {
   "cell_type": "code",
   "execution_count": 10,
   "id": "66b208b8",
   "metadata": {},
   "outputs": [],
   "source": [
    "from sklearn.pipeline import Pipeline\n",
    "from sklearn.compose import ColumnTransformer\n",
    "\n",
    "# Preprocessing pipeline for numerical features\n",
    "numerical_pipeline = Pipeline([\n",
    "    ('scaler', StandardScaler())\n",
    "])\n",
    "\n",
    "# Preprocessing pipeline for OHE features\n",
    "ohe_pipeline = Pipeline([\n",
    "    ('ohe', OneHotEncoder(drop='first'))\n",
    "])\n",
    "\n",
    "# Preprocessing pipeline for bill amount columns\n",
    "bill_amt_pipeline = Pipeline([\n",
    "    ('pca', PCA(n_components=2))\n",
    "])\n",
    "\n",
    "def identity_func(X):\n",
    "    return X\n",
    "\n",
    "add_column_transformer = Pipeline(steps=[('add_column', FunctionTransformer(identity_func))])\n",
    "\n",
    "# ColumnTransformer to apply different preprocessing pipelines to different column subsets\n",
    "ohe = ColumnTransformer([\n",
    "     ('ohe', ohe_pipeline, ohe_columns),\n",
    "     ('add_column', add_column_transformer, categorical),\n",
    "    ('num', numerical_pipeline, numerical)\n",
    "])\n",
    "pca_scaling = Pipeline([\n",
    "     ('num', numerical_pipeline),\n",
    "    ('bill_amt', bill_amt_pipeline)\n",
    "])\n",
    "\n",
    "pca_scaling_ohe = ColumnTransformer([\n",
    "    ('ohe',ohe,ohe_columns+categorical+numerical ),\n",
    "    ('pca_scaling', pca_scaling, bill_amt_cols)\n",
    "])\n"
   ]
  },
  {
   "cell_type": "markdown",
   "id": "c0a5dd6e",
   "metadata": {},
   "source": [
    "# Split the Data"
   ]
  },
  {
   "cell_type": "code",
   "execution_count": 11,
   "id": "6cf1f0fe",
   "metadata": {},
   "outputs": [],
   "source": [
    "from sklearn.model_selection import train_test_split"
   ]
  },
  {
   "cell_type": "code",
   "execution_count": 12,
   "id": "1c847a75",
   "metadata": {},
   "outputs": [],
   "source": [
    "X = df.drop('default',axis=1)\n",
    "y = df['default']"
   ]
  },
  {
   "cell_type": "code",
   "execution_count": 13,
   "id": "d791b05d",
   "metadata": {},
   "outputs": [],
   "source": [
    "X_fulltrain, X_test, y_fulltrain,y_test = train_test_split(X,y,test_size=0.2)\n",
    "X_train, X_val, y_train,y_val = train_test_split(X_fulltrain,y_fulltrain,test_size=0.25)"
   ]
  },
  {
   "cell_type": "code",
   "execution_count": 14,
   "id": "c4c4cd7a",
   "metadata": {},
   "outputs": [],
   "source": [
    "X_train.reset_index(inplace=True,drop=True)\n",
    "X_val.reset_index(inplace=True,drop=True)\n",
    "X_test.reset_index(inplace=True,drop=True)"
   ]
  },
  {
   "cell_type": "code",
   "execution_count": 15,
   "id": "85f9290c",
   "metadata": {},
   "outputs": [],
   "source": [
    "X_train = pca_scaling_ohe.fit_transform(X_train)\n",
    "X_val = pca_scaling_ohe.transform(X_val)\n",
    "X_test = pca_scaling_ohe.transform(X_test)"
   ]
  },
  {
   "cell_type": "markdown",
   "id": "143e7058",
   "metadata": {},
   "source": [
    "# Handling Imbalanced Dataset"
   ]
  },
  {
   "cell_type": "code",
   "execution_count": 16,
   "id": "632026d4",
   "metadata": {},
   "outputs": [],
   "source": [
    "from imblearn.combine import SMOTETomek\n",
    "from collections import Counter"
   ]
  },
  {
   "cell_type": "code",
   "execution_count": 17,
   "id": "3e6b915c",
   "metadata": {},
   "outputs": [
    {
     "name": "stdout",
     "output_type": "stream",
     "text": [
      "The number of classes before fit Counter({0: 9803, 1: 2797})\n",
      "The number of classes after fit Counter({0: 9585, 1: 9585})\n"
     ]
    }
   ],
   "source": [
    "os=SMOTETomek()\n",
    "X_train_ns,y_train_ns=os.fit_resample(X_train,y_train)\n",
    "print(\"The number of classes before fit {}\".format(Counter(y_train)))\n",
    "print(\"The number of classes after fit {}\".format(Counter(y_train_ns)))"
   ]
  },
  {
   "cell_type": "markdown",
   "id": "5563e012",
   "metadata": {},
   "source": [
    "# Model"
   ]
  },
  {
   "cell_type": "code",
   "execution_count": 18,
   "id": "2bbd298f",
   "metadata": {},
   "outputs": [],
   "source": [
    "from xgboost import XGBClassifier\n",
    "from sklearn.metrics import confusion_matrix,classification_report,accuracy_score,roc_auc_score\n",
    "from sklearn.pipeline import Pipeline\n",
    "from sklearn.model_selection import GridSearchCV"
   ]
  },
  {
   "cell_type": "code",
   "execution_count": 19,
   "id": "c8182c7b",
   "metadata": {},
   "outputs": [],
   "source": [
    "ensemble = XGBClassifier()\n",
    "ensemble.fit(X_train_ns,y_train_ns)\n",
    "y_pred = ensemble.predict(X_train_ns)"
   ]
  },
  {
   "cell_type": "code",
   "execution_count": 20,
   "id": "d606adc6",
   "metadata": {},
   "outputs": [
    {
     "name": "stdout",
     "output_type": "stream",
     "text": [
      "{'bootstrap': [True, False],\n",
      " 'max_depth': [1, 5, 10, 15, 20, 25, None],\n",
      " 'max_features': ['auto', 'sqrt'],\n",
      " 'min_samples_leaf': [1, 2, 4],\n",
      " 'min_samples_split': [2, 4, 6, 8, 10],\n",
      " 'n_estimators': [50, 100, 150, 200, 250, 300, 350, 400, 450, 500]}\n"
     ]
    }
   ],
   "source": [
    "from pprint import pprint\n",
    "# Setting up a parameter grid for hyperparameter tuning\n",
    "\n",
    "# Number of trees in random forest\n",
    "n_estimators = [int(x) for x in np.linspace(start = 50, stop = 500, num = 10)]\n",
    "\n",
    "# Number of features to consider at every split\n",
    "max_features = ['auto', 'sqrt']\n",
    "\n",
    "# Maximum number of levels in tree\n",
    "max_depth = [int(x) for x in np.linspace(1, 25, num = 6)]\n",
    "max_depth.append(None)\n",
    "\n",
    "# Minimum number of samples required to split a node\n",
    "min_samples_split = [2, 4, 6, 8, 10]\n",
    "\n",
    "# Minimum number of samples required at each leaf node\n",
    "min_samples_leaf = [1, 2, 4]\n",
    "\n",
    "# Method of selecting samples for training each tree\n",
    "bootstrap = [True, False]\n",
    "\n",
    "# Create the random grid\n",
    "random_grid = {'n_estimators': n_estimators,\n",
    "               'max_features': max_features,\n",
    "               'max_depth': max_depth,\n",
    "               'min_samples_split': min_samples_split,\n",
    "               'min_samples_leaf': min_samples_leaf,\n",
    "               'bootstrap': bootstrap}\n",
    "pprint(random_grid)"
   ]
  },
  {
   "cell_type": "code",
   "execution_count": 21,
   "id": "58e2eb80",
   "metadata": {},
   "outputs": [],
   "source": [
    "from sklearn.model_selection import RandomizedSearchCV\n",
    "import xgboost as xgb"
   ]
  },
  {
   "cell_type": "code",
   "execution_count": 22,
   "id": "6df206ac",
   "metadata": {},
   "outputs": [
    {
     "name": "stdout",
     "output_type": "stream",
     "text": [
      "Fitting 5 folds for each of 10 candidates, totalling 50 fits\n",
      "[22:05:34] WARNING: C:/Users/administrator/workspace/xgboost-win64_release_1.6.0/src/learner.cc:627: \n",
      "Parameters: { \"bootstrap\", \"max_features\", \"min_samples_leaf\", \"min_samples_split\" } might not be used.\n",
      "\n",
      "  This could be a false alarm, with some parameters getting used by language bindings but\n",
      "  then being mistakenly passed down to XGBoost core, or some parameter actually being used\n",
      "  but getting flagged wrongly here. Please open an issue if you find any such cases.\n",
      "\n",
      "\n"
     ]
    },
    {
     "data": {
      "text/plain": [
       "RandomizedSearchCV(cv=5, error_score='raise',\n",
       "                   estimator=XGBClassifier(base_score=0.5, booster='gbtree',\n",
       "                                           callbacks=None, colsample_bylevel=1,\n",
       "                                           colsample_bynode=1,\n",
       "                                           colsample_bytree=1,\n",
       "                                           early_stopping_rounds=None,\n",
       "                                           enable_categorical=False,\n",
       "                                           eval_metric=None, gamma=0, gpu_id=-1,\n",
       "                                           grow_policy='depthwise',\n",
       "                                           importance_type=None,\n",
       "                                           interaction_constraints='',\n",
       "                                           learning_rate=0.30...\n",
       "                                           num_parallel_tree=1,\n",
       "                                           predictor='auto', random_state=0,\n",
       "                                           reg_alpha=0, reg_lambda=1, ...),\n",
       "                   n_jobs=-1,\n",
       "                   param_distributions={'bootstrap': [True, False],\n",
       "                                        'max_depth': [1, 5, 10, 15, 20, 25,\n",
       "                                                      None],\n",
       "                                        'max_features': ['auto', 'sqrt'],\n",
       "                                        'min_samples_leaf': [1, 2, 4],\n",
       "                                        'min_samples_split': [2, 4, 6, 8, 10],\n",
       "                                        'n_estimators': [50, 100, 150, 200, 250,\n",
       "                                                         300, 350, 400, 450,\n",
       "                                                         500]},\n",
       "                   random_state=0, scoring='recall', verbose=2)"
      ]
     },
     "execution_count": 22,
     "metadata": {},
     "output_type": "execute_result"
    }
   ],
   "source": [
    "# Random search of parameters, using 5 fold cross validation,\n",
    "# search across 50 different combinations\n",
    "xgboost_random = RandomizedSearchCV(estimator = ensemble, param_distributions = random_grid, n_iter = 10, cv = 5, scoring='recall', verbose=2, random_state=0, n_jobs = -1, error_score='raise')\n",
    "\n",
    "# Fit the random search model\n",
    "xgboost_random.fit(X_train_ns, y_train_ns)"
   ]
  },
  {
   "cell_type": "code",
   "execution_count": 23,
   "id": "aa5b76fb",
   "metadata": {},
   "outputs": [],
   "source": [
    "def output_result(y,y_pred):\n",
    "    print('Confusion Matrix')\n",
    "    print(confusion_matrix(y,y_pred))\n",
    "    print(f'Accuracy : {accuracy_score(y,y_pred)}')\n",
    "    print(f'Auc score Train: {roc_auc_score(y,y_pred)}')\n",
    "    print(classification_report(y,y_pred))"
   ]
  },
  {
   "cell_type": "code",
   "execution_count": 24,
   "id": "ff16d41d",
   "metadata": {},
   "outputs": [
    {
     "name": "stdout",
     "output_type": "stream",
     "text": [
      "Confusion Matrix\n",
      "[[9584    1]\n",
      " [   1 9584]]\n",
      "Accuracy : 0.9998956703182055\n",
      "Auc score Train: 0.9998956703182054\n",
      "              precision    recall  f1-score   support\n",
      "\n",
      "           0       1.00      1.00      1.00      9585\n",
      "           1       1.00      1.00      1.00      9585\n",
      "\n",
      "    accuracy                           1.00     19170\n",
      "   macro avg       1.00      1.00      1.00     19170\n",
      "weighted avg       1.00      1.00      1.00     19170\n",
      "\n"
     ]
    }
   ],
   "source": [
    "y_pred = xgboost_random.predict(X_train_ns)\n",
    "output_result(y_train_ns,y_pred)"
   ]
  },
  {
   "cell_type": "code",
   "execution_count": 25,
   "id": "a0c6ff02",
   "metadata": {},
   "outputs": [
    {
     "name": "stdout",
     "output_type": "stream",
     "text": [
      "Confusion Matrix\n",
      "[[2977  358]\n",
      " [ 528  337]]\n",
      "Accuracy : 0.789047619047619\n",
      "Auc score Train: 0.6411245244429808\n",
      "              precision    recall  f1-score   support\n",
      "\n",
      "           0       0.85      0.89      0.87      3335\n",
      "           1       0.48      0.39      0.43       865\n",
      "\n",
      "    accuracy                           0.79      4200\n",
      "   macro avg       0.67      0.64      0.65      4200\n",
      "weighted avg       0.77      0.79      0.78      4200\n",
      "\n"
     ]
    }
   ],
   "source": [
    "y_pred = xgboost_random.predict(X_val)\n",
    "output_result(y_val,y_pred)"
   ]
  },
  {
   "cell_type": "code",
   "execution_count": 26,
   "id": "5a100310",
   "metadata": {},
   "outputs": [
    {
     "name": "stdout",
     "output_type": "stream",
     "text": [
      "Confusion Matrix\n",
      "[[2885  332]\n",
      " [ 577  406]]\n",
      "Accuracy : 0.7835714285714286\n",
      "Auc score Train: 0.6549098112108518\n",
      "              precision    recall  f1-score   support\n",
      "\n",
      "           0       0.83      0.90      0.86      3217\n",
      "           1       0.55      0.41      0.47       983\n",
      "\n",
      "    accuracy                           0.78      4200\n",
      "   macro avg       0.69      0.65      0.67      4200\n",
      "weighted avg       0.77      0.78      0.77      4200\n",
      "\n"
     ]
    }
   ],
   "source": [
    "y_pred = xgboost_random.predict(X_test)\n",
    "output_result(y_test,y_pred)"
   ]
  },
  {
   "cell_type": "code",
   "execution_count": 27,
   "id": "1f012b5e",
   "metadata": {},
   "outputs": [],
   "source": [
    "X_full_train = np.concatenate([X_train_ns, X_val], axis=0)\n",
    "y_full_train = np.concatenate([y_train_ns, y_val], axis=0)"
   ]
  },
  {
   "cell_type": "code",
   "execution_count": 28,
   "id": "2882ff1a",
   "metadata": {},
   "outputs": [
    {
     "name": "stdout",
     "output_type": "stream",
     "text": [
      "[22:08:38] WARNING: C:/Users/administrator/workspace/xgboost-win64_release_1.6.0/src/learner.cc:627: \n",
      "Parameters: { \"bootstrap\", \"max_features\", \"min_samples_leaf\", \"min_samples_split\" } might not be used.\n",
      "\n",
      "  This could be a false alarm, with some parameters getting used by language bindings but\n",
      "  then being mistakenly passed down to XGBoost core, or some parameter actually being used\n",
      "  but getting flagged wrongly here. Please open an issue if you find any such cases.\n",
      "\n",
      "\n"
     ]
    }
   ],
   "source": [
    "final_model = xgboost_random.best_estimator_.fit(X_full_train,y_full_train)"
   ]
  },
  {
   "cell_type": "code",
   "execution_count": 29,
   "id": "285b74ef",
   "metadata": {},
   "outputs": [
    {
     "name": "stdout",
     "output_type": "stream",
     "text": [
      "Confusion Matrix\n",
      "[[2919  298]\n",
      " [ 586  397]]\n",
      "Accuracy : 0.7895238095238095\n",
      "Auc score Train: 0.6556164147043096\n",
      "              precision    recall  f1-score   support\n",
      "\n",
      "           0       0.83      0.91      0.87      3217\n",
      "           1       0.57      0.40      0.47       983\n",
      "\n",
      "    accuracy                           0.79      4200\n",
      "   macro avg       0.70      0.66      0.67      4200\n",
      "weighted avg       0.77      0.79      0.78      4200\n",
      "\n"
     ]
    }
   ],
   "source": [
    "y_pred = final_model.predict(X_test)\n",
    "output_result(y_test,y_pred)"
   ]
  },
  {
   "cell_type": "markdown",
   "id": "febbe277",
   "metadata": {},
   "source": [
    "# Save the Model"
   ]
  },
  {
   "cell_type": "code",
   "execution_count": 30,
   "id": "139faae9",
   "metadata": {},
   "outputs": [],
   "source": [
    "import pickle\n",
    "import joblib"
   ]
  },
  {
   "cell_type": "code",
   "execution_count": 31,
   "id": "808a7adf",
   "metadata": {},
   "outputs": [],
   "source": [
    "with open('model.pkl','wb') as f_out:\n",
    "    pickle.dump((xgboost_random),f_out)"
   ]
  },
  {
   "cell_type": "code",
   "execution_count": 32,
   "id": "9e63ac7c",
   "metadata": {},
   "outputs": [
    {
     "data": {
      "text/plain": [
       "['pipeline.pkl']"
      ]
     },
     "execution_count": 32,
     "metadata": {},
     "output_type": "execute_result"
    }
   ],
   "source": [
    "joblib.dump(pca_scaling_ohe, 'pipeline.pkl')"
   ]
  }
 ],
 "metadata": {
  "kernelspec": {
   "display_name": "Python 3 (ipykernel)",
   "language": "python",
   "name": "python3"
  },
  "language_info": {
   "codemirror_mode": {
    "name": "ipython",
    "version": 3
   },
   "file_extension": ".py",
   "mimetype": "text/x-python",
   "name": "python",
   "nbconvert_exporter": "python",
   "pygments_lexer": "ipython3",
   "version": "3.9.15"
  }
 },
 "nbformat": 4,
 "nbformat_minor": 5
}
